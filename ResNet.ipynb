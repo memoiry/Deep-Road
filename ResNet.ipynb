{
 "cells": [
  {
   "cell_type": "markdown",
   "metadata": {},
   "source": [
    "### ResNet\n",
    "\n",
    "ResNet的目标不是学习目标, 而变成了学习输入和输入的差, 即残差, 其灵感是原来的结构随着网络的加深并不会一致使得误差减少, 这不是过拟合的问题, 在训练集和测试集上的性能都会减少. 相当于Highway Net, 引入了旁路的支线, 让输入直接连接到后面的层, 使得后面的层可以直接学习残差, 这种结构也称为skip connection或者shortcut, 这种结构保护了信息的完整性, 只需要学习输入输出差别的那一部分, 在原始论文中引入了两种残差学习单元.\n",
    "\n",
    "1. 两层, 3x3卷积\n",
    "2. 三层, 1x1, 3x3, 1x1\n",
    "\n",
    "其最终形成的结构就是上面的基础单元的堆叠."
   ]
  },
  {
   "cell_type": "code",
   "execution_count": null,
   "metadata": {
    "collapsed": true
   },
   "outputs": [],
   "source": []
  }
 ],
 "metadata": {
  "kernelspec": {
   "display_name": "Python 2",
   "language": "python",
   "name": "python2"
  },
  "language_info": {
   "codemirror_mode": {
    "name": "ipython",
    "version": 2
   },
   "file_extension": ".py",
   "mimetype": "text/x-python",
   "name": "python",
   "nbconvert_exporter": "python",
   "pygments_lexer": "ipython2",
   "version": "2.7.12"
  }
 },
 "nbformat": 4,
 "nbformat_minor": 0
}
